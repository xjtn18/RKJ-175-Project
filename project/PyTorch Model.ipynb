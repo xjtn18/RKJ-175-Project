{
 "cells": [
  {
   "cell_type": "markdown",
   "metadata": {
    "colab_type": "text",
    "id": "9vdvF5Y8_xh5"
   },
   "source": [
    "# PyTorch Neural Net"
   ]
  },
  {
   "cell_type": "code",
   "execution_count": 1,
   "metadata": {
    "colab": {},
    "colab_type": "code",
    "id": "VIbFyT9X_xh6"
   },
   "outputs": [],
   "source": [
    "import os\n",
    "from glob import glob\n",
    "import random\n",
    "import time\n",
    "import pickle\n",
    "import torch\n",
    "\n",
    "import numpy as np\n",
    "import pandas as pd\n",
    "import matplotlib.pyplot as plt\n",
    "import warnings\n",
    "warnings.filterwarnings('ignore')\n",
    "%matplotlib inline\n",
    "from IPython.display import display, Image\n",
    "import matplotlib.image as mpimg\n",
    "import cv2\n",
    "\n",
    "from sklearn.model_selection import train_test_split\n",
    "from sklearn.metrics import log_loss\n",
    "\n",
    "#to import from src directory\n",
    "import sys\n",
    "sys.path.append('./src/')\n",
    "\n",
    "%load_ext autoreload\n",
    "%autoreload 1\n",
    "%aimport main\n",
    "%aimport Helper"
   ]
  },
  {
   "cell_type": "code",
   "execution_count": 2,
   "metadata": {
    "colab": {},
    "colab_type": "code",
    "id": "xwrBAJSA_xiB"
   },
   "outputs": [],
   "source": [
    "# some constants\n",
    "\n",
    "#random numbers rn\n",
    "NUM_TRAIN = 9000\n",
    "NUM_VAL = 1000\n",
    "NUM_TEST = 10000\n",
    "\n",
    "NUM_CLASSES = 10\n",
    "IMG_W = 64\n",
    "IMG_H = 64\n",
    "\n",
    "RS = 22 # random seed"
   ]
  },
  {
   "cell_type": "code",
   "execution_count": 3,
   "metadata": {},
   "outputs": [],
   "source": [
    "%autoreload\n",
    "\n",
    "# FOR LOADING THE DATA FOR THE FIRST TIME\n",
    "# COMMENT OUT ONCE PICKLE FILES ARE SAVED\n",
    "\n",
    "#Xtrain, Ytrain = Helper.load_train(IMG_W, IMG_H)\n",
    "#Xtest, test_ids = Helper.load_test(IMG_W, IMG_H)\n",
    "\n",
    "#with open('./train_array.pkl', 'wb') as fid:\n",
    "    #pickle.dump((Xtrain, Ytrain), fid) #stores a tuple\n",
    "#with open('./test_array.pkl', 'wb') as fid:\n",
    "    #pickle.dump(Xtest, fid)\n",
    "#with open('./test_ids.pkl', 'wb') as fid:\n",
    "#    pickle.dump(test_ids, fid)"
   ]
  },
  {
   "cell_type": "code",
   "execution_count": 4,
   "metadata": {
    "scrolled": true
   },
   "outputs": [
    {
     "name": "stdout",
     "output_type": "stream",
     "text": [
      "Xtrain shape: (22424, 64, 64, 3)\n",
      "Ytrain shape: (22424,)\n",
      "Xtest shape: (79726, 64, 64, 3)\n"
     ]
    }
   ],
   "source": [
    "# load in the image data from the pickle files\n",
    "\n",
    "with open('./train_array.pkl', 'rb') as fid:\n",
    "    X_train,Y_train = pickle.load(fid)\n",
    "with open('./test_array.pkl', 'rb') as fid:\n",
    "    Xtest = pickle.load(fid)\n",
    "print(\"Xtrain shape:\", X_train.shape)\n",
    "print(\"Ytrain shape:\", Y_train.shape)\n",
    "print(\"Xtest shape:\", Xtest.shape)"
   ]
  },
  {
   "cell_type": "code",
   "execution_count": 5,
   "metadata": {},
   "outputs": [
    {
     "name": "stdout",
     "output_type": "stream",
     "text": [
      "(15696, 64, 64, 3)\n",
      "(15696,)\n",
      "(6728, 64, 64, 3)\n",
      "(6728,)\n"
     ]
    }
   ],
   "source": [
    "# split training data into train/validation split\n",
    "Xtrain, Xval, Ytrain, Yval = train_test_split(X_train, Y_train, test_size=0.30, random_state=RS)\n",
    "print(Xtrain.shape, Ytrain.shape, Xval.shape, Yval.shape, sep='\\n')"
   ]
  },
  {
   "cell_type": "code",
   "execution_count": 6,
   "metadata": {
    "scrolled": true
   },
   "outputs": [],
   "source": [
    "#convert arrays to torch.Tensor\n",
    "Xtrain = np.transpose(Xtrain, (0, 3, 1, 2)) # transpose to match PyTorch model format\n",
    "Xtrain = torch.from_numpy(Xtrain)\n",
    "Ytrain = torch.from_numpy(Ytrain)\n",
    "\n",
    "Xval = np.transpose(Xval, (0, 3, 1, 2))\n",
    "Xval = torch.from_numpy(Xval)\n",
    "Yval = torch.from_numpy(Yval)\n",
    "\n",
    "Xtest = np.transpose(Xtest, (0, 3, 1, 2))\n",
    "Xtest = torch.from_numpy(Xtest)\n",
    "#Ytest = np.transpose(Ytest, (0, 3, 1, 2))\n"
   ]
  },
  {
   "cell_type": "markdown",
   "metadata": {},
   "source": [
    "# Data Exploration"
   ]
  },
  {
   "cell_type": "code",
   "execution_count": 7,
   "metadata": {},
   "outputs": [
    {
     "name": "stdout",
     "output_type": "stream",
     "text": [
      "(22424, 3)\n"
     ]
    },
    {
     "data": {
      "text/plain": [
       "<Figure size 1440x1440 with 0 Axes>"
      ]
     },
     "metadata": {},
     "output_type": "display_data"
    },
    {
     "data": {
      "image/png": "[encoded data removed]",
      "text/plain": [
       "<Figure size 432x288 with 1 Axes>"
      ]
     },
     "metadata": {
      "needs_background": "light"
     },
     "output_type": "display_data"
    }
   ],
   "source": [
    "dataset = pd.read_csv('data/driver_imgs_list.csv')\n",
    "print(dataset.shape)\n",
    "\n",
    "# Plotting class distribution\n",
    "dataset['class_type'] = dataset['classname'].str.extract('(\\d)',expand=False).astype(np.float)\n",
    "plt.figure(figsize = (20,20))\n",
    "dataset.hist('class_type', alpha=1, layout=(1,1), bins=10)\n",
    "plt.title('Class distribution')\n",
    "plt.show()"
   ]
  },
  {
   "cell_type": "markdown",
   "metadata": {},
   "source": [
    "# Creating Model"
   ]
  },
  {
   "cell_type": "code",
   "execution_count": 8,
   "metadata": {},
   "outputs": [],
   "source": [
    "import torch\n",
    "import torch.nn as nn\n",
    "import torch.optim as optim\n",
    "from torch.autograd import Variable\n",
    "from torch.utils.data import DataLoader\n",
    "from torch.utils.data import sampler\n",
    "\n",
    "import torchvision.datasets as dset\n",
    "import torchvision.transforms as T\n",
    "\n",
    "import timeit"
   ]
  },
  {
   "cell_type": "code",
   "execution_count": 9,
   "metadata": {},
   "outputs": [
    {
     "data": {
      "text/plain": [
       "True"
      ]
     },
     "execution_count": 9,
     "metadata": {},
     "output_type": "execute_result"
    }
   ],
   "source": [
    "torch.cuda.is_available()"
   ]
  },
  {
   "cell_type": "code",
   "execution_count": 10,
   "metadata": {},
   "outputs": [],
   "source": [
    "class Flatten(nn.Module):\n",
    "    def forward(self, x):\n",
    "        N, C, H, W = x.size() # read in N, C, H, W\n",
    "        return x.reshape(N, -1)  # \"flatten\" the C * H * W values into a single vector per image"
   ]
  },
  {
   "cell_type": "code",
   "execution_count": 11,
   "metadata": {},
   "outputs": [],
   "source": [
    "if torch.cuda.is_available():\n",
    "    DTYPE = torch.cuda.FloatTensor #GPU type\n",
    "else:\n",
    "    DTYPE = torch.FloatTensor #CPU type"
   ]
  },
  {
   "cell_type": "code",
   "execution_count": 12,
   "metadata": {},
   "outputs": [],
   "source": [
    "model_base = nn.Sequential(\n",
    "    nn.Conv2d(3, 64, kernel_size=10, stride=1),\n",
    "    nn.ReLU(inplace=True),\n",
    "    nn.BatchNorm2d(64),\n",
    "    nn.MaxPool2d(2, stride=2),\n",
    "    nn.Dropout(0.5),\n",
    "    Flatten(),\n",
    "    nn.Linear(46656,1024),\n",
    "    nn.ReLU(inplace=True),\n",
    "    nn.Dropout(0.5),\n",
    "    nn.Linear(1024, 10),\n",
    ")\n",
    "\n",
    "model = model_base.type(DTYPE)\n",
    "\n",
    "loss_fn = nn.CrossEntropyLoss().type(DTYPE)\n",
    "optimizer = optim.SGD(model.parameters(), lr = 1e-4, weight_decay = 0.9, momentum=0.8)\n",
    "#decayRate = 0.96\n",
    "#optimizer = torch.optim.lr_scheduler.ExponentialLR(optimizer=optimizer, gamma=decayRate) # wrap optimizer in a learning rate decay"
   ]
  },
  {
   "cell_type": "markdown",
   "metadata": {},
   "source": [
    "# Training model"
   ]
  },
  {
   "cell_type": "code",
   "execution_count": 13,
   "metadata": {},
   "outputs": [
    {
     "name": "stdout",
     "output_type": "stream",
     "text": [
      "Starting epoch 1 / 3\n",
      "t = 25, loss = 2.2702\n",
      "t = 50, loss = 2.1793\n",
      "t = 75, loss = 2.0563\n",
      "t = 100, loss = 2.0264\n",
      "t = 125, loss = 1.9495\n",
      "t = 150, loss = 1.8033\n",
      "t = 175, loss = 1.6873\n",
      "t = 200, loss = 1.6611\n",
      "t = 225, loss = 1.6469\n",
      "t = 250, loss = 1.4639\n",
      "t = 275, loss = 1.4420\n",
      "t = 300, loss = 1.4626\n",
      "Starting epoch 2 / 3\n",
      "t = 25, loss = 1.3335\n",
      "t = 50, loss = 1.4005\n",
      "t = 75, loss = 1.1026\n",
      "t = 100, loss = 1.4746\n",
      "t = 125, loss = 1.1630\n",
      "t = 150, loss = 1.1393\n",
      "t = 175, loss = 1.1037\n",
      "t = 200, loss = 1.0090\n",
      "t = 225, loss = 1.0711\n",
      "t = 250, loss = 1.0226\n",
      "t = 275, loss = 1.0126\n",
      "t = 300, loss = 1.1342\n",
      "Starting epoch 3 / 3\n",
      "t = 25, loss = 1.1348\n",
      "t = 50, loss = 1.0520\n",
      "t = 75, loss = 0.9180\n",
      "t = 100, loss = 1.1730\n",
      "t = 125, loss = 0.9012\n",
      "t = 150, loss = 0.9949\n",
      "t = 175, loss = 1.0417\n",
      "t = 200, loss = 0.8735\n",
      "t = 225, loss = 0.8666\n",
      "t = 250, loss = 0.9385\n",
      "t = 275, loss = 0.8391\n",
      "t = 300, loss = 0.9735\n",
      "--- 137.18385767936707 seconds to train ---\n"
     ]
    }
   ],
   "source": [
    "%autoreload\n",
    "import time\n",
    "start_time = time.time()\n",
    "\n",
    "torch.cuda.random.manual_seed(2468)\n",
    "model.apply(Helper.reset)\n",
    "loss_history = Helper.train(model, Xtrain, Ytrain, loss_fn, optimizer, num_epochs=3, dtype = DTYPE)\n",
    "\n",
    "print(\"--- %s seconds to train ---\" % (time.time() - start_time)) # print the training time"
   ]
  },
  {
   "cell_type": "code",
   "execution_count": 14,
   "metadata": {},
   "outputs": [
    {
     "data": {
      "image/png": "[encoded data removed]",
      "text/plain": [
       "<Figure size 432x288 with 1 Axes>"
      ]
     },
     "metadata": {
      "needs_background": "light"
     },
     "output_type": "display_data"
    }
   ],
   "source": [
    "plt.plot(np.arange(0, len(loss_history)*25, 25), loss_history)\n",
    "plt.title(\"Model Loss\")\n",
    "plt.xlabel(\"iterations\")\n",
    "plt.ylabel(\"loss\")\n",
    "plt.show()"
   ]
  },
  {
   "cell_type": "code",
   "execution_count": 15,
   "metadata": {},
   "outputs": [
    {
     "name": "stdout",
     "output_type": "stream",
     "text": [
      "0.8390520215034485\n"
     ]
    }
   ],
   "source": [
    "print(min(loss_history))"
   ]
  },
  {
   "cell_type": "markdown",
   "metadata": {},
   "source": [
    "# Evaluating model"
   ]
  },
  {
   "cell_type": "code",
   "execution_count": 16,
   "metadata": {
    "scrolled": true
   },
   "outputs": [
    {
     "name": "stdout",
     "output_type": "stream",
     "text": [
      "Got 6174 / 6700 correct (92.15)\n"
     ]
    },
    {
     "data": {
      "text/plain": [
       "92.14925373134328"
      ]
     },
     "execution_count": 16,
     "metadata": {},
     "output_type": "execute_result"
    }
   ],
   "source": [
    "%autoreload\n",
    "\n",
    "Helper.evaluate(model, Xval, Yval, Xval.shape[0], DTYPE)"
   ]
  },
  {
   "cell_type": "code",
   "execution_count": 17,
   "metadata": {},
   "outputs": [],
   "source": [
    "#parameter tuning\n",
    "%autoreload\n",
    "\n",
    "#results = {}\n",
    "#best_val = -1\n",
    "#best_softmax = None\n",
    "#learning_rates = [1e-7, 5e-7]\n",
    "#regularization_strengths = [2.5e4, 5e4]\n",
    "\n",
    "\n",
    "\n",
    "#torch.cuda.random.manual_seed(2468)\n",
    "#model.apply(Helper.reset)\n",
    "#loss_history = Helper.train(model, Xtrain, Ytrain, loss_fn, optimizer, num_epochs=3, dtype = DTYPE)"
   ]
  },
  {
   "cell_type": "code",
   "execution_count": 18,
   "metadata": {},
   "outputs": [],
   "source": [
    "# run on the test set for final accuracy\n",
    "%autoreload\n",
    "predictions = Helper.get_predictions(model, Xtest, Xtest.shape[0], DTYPE)\n",
    "\n",
    "#predictions = Helper.get_predictions(model, Xtest[:101], 101, DTYPE)"
   ]
  },
  {
   "cell_type": "code",
   "execution_count": 19,
   "metadata": {},
   "outputs": [
    {
     "name": "stdout",
     "output_type": "stream",
     "text": [
      "79726\n"
     ]
    }
   ],
   "source": [
    "print(len(predictions))"
   ]
  },
  {
   "cell_type": "code",
   "execution_count": 20,
   "metadata": {
    "scrolled": true
   },
   "outputs": [],
   "source": [
    "%autoreload\n",
    "\n",
    "#bring in the test_ids (image filenames in test directory)\n",
    "with open('./test_ids.pkl', 'rb') as fid:\n",
    "    test_ids = pickle.load(fid)\n",
    "\n",
    "#setup predictions array for kaggle submission\n",
    "predictions_matrix = Helper.to_prediction_list(predictions)"
   ]
  },
  {
   "cell_type": "code",
   "execution_count": 21,
   "metadata": {},
   "outputs": [
    {
     "name": "stdout",
     "output_type": "stream",
     "text": [
      "[0. 0. 0. 0. 0. 0. 1. 0. 0. 0.]\n"
     ]
    }
   ],
   "source": [
    "print(predictions_matrix[0])"
   ]
  },
  {
   "cell_type": "code",
   "execution_count": 22,
   "metadata": {},
   "outputs": [
    {
     "data": {
      "text/plain": [
       "'kaggle_submissions\\\\submission_2020-06-12-04-15.csv'"
      ]
     },
     "execution_count": 22,
     "metadata": {},
     "output_type": "execute_result"
    }
   ],
   "source": [
    "# make a kaggle submission\n",
    "#print(predictions_matrix.shape)\n",
    "Helper.create_submission(predictions_matrix, test_ids)\n",
    "\n",
    "# Kaggle will provide the test accuracy result"
   ]
  },
  {
   "cell_type": "code",
   "execution_count": 23,
   "metadata": {},
   "outputs": [],
   "source": [
    "# save the best model to a pickle file\n",
    "#with open(torch_model.pkl) as fid:\n",
    "#    pickle.dump(model, fid)"
   ]
  }
 ],
 "metadata": {
  "accelerator": "GPU",
  "colab": {
   "collapsed_sections": [],
   "name": "project.ipynb",
   "provenance": []
  },
  "kernelspec": {
   "display_name": "Python 3",
   "language": "python",
   "name": "python3"
  },
  "language_info": {
   "codemirror_mode": {
    "name": "ipython",
    "version": 3
   },
   "file_extension": ".py",
   "mimetype": "text/x-python",
   "name": "python",
   "nbconvert_exporter": "python",
   "pygments_lexer": "ipython3",
   "version": "3.7.7"
  }
 },
 "nbformat": 4,
 "nbformat_minor": 1
}
