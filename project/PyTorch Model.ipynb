{
 "cells": [
  {
   "cell_type": "markdown",
   "metadata": {
    "colab_type": "text",
    "id": "9vdvF5Y8_xh5"
   },
   "source": [
    "# PyTorch Neural Net"
   ]
  },
  {
   "cell_type": "code",
   "execution_count": 1,
   "metadata": {
    "colab": {},
    "colab_type": "code",
    "id": "VIbFyT9X_xh6"
   },
   "outputs": [],
   "source": [
    "import os\n",
    "from glob import glob\n",
    "import random\n",
    "import time\n",
    "import pickle\n",
    "import torch\n",
    "\n",
    "import numpy as np\n",
    "import pandas as pd\n",
    "import matplotlib.pyplot as plt\n",
    "import warnings\n",
    "warnings.filterwarnings('ignore')\n",
    "%matplotlib inline\n",
    "from IPython.display import display, Image\n",
    "import matplotlib.image as mpimg\n",
    "import cv2\n",
    "\n",
    "from sklearn.model_selection import train_test_split\n",
    "from sklearn.metrics import log_loss\n",
    "\n",
    "#to import from src directory\n",
    "import sys\n",
    "sys.path.append('./src/')\n",
    "from main import *\n",
    "from TorchModelHelper import *"
   ]
  },
  {
   "cell_type": "code",
   "execution_count": 2,
   "metadata": {
    "colab": {},
    "colab_type": "code",
    "id": "xwrBAJSA_xiB"
   },
   "outputs": [],
   "source": [
    "# some constants\n",
    "\n",
    "#random numbers rn\n",
    "NUM_TRAIN = 9000\n",
    "NUM_VAL = 1000\n",
    "NUM_TEST = 10000\n",
    "\n",
    "NUM_CLASSES = 10\n",
    "IMG_W = 64\n",
    "IMG_H = 64\n",
    "\n",
    "RS = 22 # random seed"
   ]
  },
  {
   "cell_type": "code",
   "execution_count": 3,
   "metadata": {},
   "outputs": [],
   "source": [
    "# FOR LOADING THE DATA FOR THE FIRST TIME\n",
    "# COMMENT OUT ONCE PICKLE FILES ARE SAVED\n",
    "\n",
    "#Xtrain, Ytrain = load_train(IMG_W, IMG_H)\n",
    "#Xtest = load_test(IMG_W, IMG_H)\n",
    "\n",
    "#with open('./train_array.pkl', 'wb') as fid:\n",
    "    #pickle.dump((Xtrain, Ytrain), fid) #stores a tuple\n",
    "#with open('./test_array.pkl', 'wb') as fid:\n",
    "    #pickle.dump(Xtest, fid)"
   ]
  },
  {
   "cell_type": "code",
   "execution_count": 4,
   "metadata": {
    "scrolled": true
   },
   "outputs": [
    {
     "name": "stdout",
     "output_type": "stream",
     "text": [
      "Xtrain shape: (22424, 64, 64, 3)\n",
      "Ytrain shape: (22424,)\n",
      "Xtest shape: (79726, 64, 64, 3)\n"
     ]
    }
   ],
   "source": [
    "# load in the image data from the pickle files\n",
    "\n",
    "with open('./train_array.pkl', 'rb') as fid:\n",
    "    X_train,Y_train = pickle.load(fid)\n",
    "with open('./test_array.pkl', 'rb') as fid:\n",
    "    X_test = pickle.load(fid)\n",
    "print(\"Xtrain shape:\", X_train.shape)\n",
    "print(\"Ytrain shape:\", Y_train.shape)\n",
    "print(\"Xtest shape:\", X_test.shape)"
   ]
  },
  {
   "cell_type": "code",
   "execution_count": 5,
   "metadata": {},
   "outputs": [
    {
     "name": "stdout",
     "output_type": "stream",
     "text": [
      "(15696, 64, 64, 3)\n",
      "(15696,)\n",
      "(6728, 64, 64, 3)\n",
      "(6728,)\n"
     ]
    }
   ],
   "source": [
    "# split training data into train/validation split\n",
    "Xtrain, Xval, Ytrain, Yval = train_test_split(X_train, Y_train, test_size=0.30, random_state=RS)\n",
    "print(Xtrain.shape, Ytrain.shape, Xval.shape, Yval.shape, sep='\\n')"
   ]
  },
  {
   "cell_type": "code",
   "execution_count": 6,
   "metadata": {
    "scrolled": true
   },
   "outputs": [],
   "source": [
    "#convert arrays to torch.Tensor\n",
    "Xtrain = np.transpose(Xtrain, (0, 3, 1, 2))\n",
    "Xtrain = torch.from_numpy(Xtrain)\n",
    "\n",
    "Xval = torch.from_numpy(Xval)\n",
    "Xval = np.transpose(Xval, (0, 3, 1, 2))\n",
    "\n",
    "Ytrain = torch.from_numpy(Ytrain)\n",
    "\n",
    "Yval = torch.from_numpy(Yval)"
   ]
  },
  {
   "cell_type": "markdown",
   "metadata": {},
   "source": [
    "# Data Exploration"
   ]
  },
  {
   "cell_type": "code",
   "execution_count": 7,
   "metadata": {},
   "outputs": [
    {
     "name": "stdout",
     "output_type": "stream",
     "text": [
      "(22424, 3)\n"
     ]
    },
    {
     "data": {
      "text/plain": [
       "<Figure size 1440x1440 with 0 Axes>"
      ]
     },
     "metadata": {},
     "output_type": "display_data"
    },
    {
     "data": {
      "image/png": "[encoded data removed]",
      "text/plain": [
       "<Figure size 432x288 with 1 Axes>"
      ]
     },
     "metadata": {
      "needs_background": "light"
     },
     "output_type": "display_data"
    }
   ],
   "source": [
    "dataset = pd.read_csv('data/driver_imgs_list.csv')\n",
    "print(dataset.shape)\n",
    "\n",
    "# Plotting class distribution\n",
    "dataset['class_type'] = dataset['classname'].str.extract('(\\d)',expand=False).astype(np.float)\n",
    "plt.figure(figsize = (20,20))\n",
    "dataset.hist('class_type', alpha=1, layout=(1,1), bins=10)\n",
    "plt.title('Class distribution')\n",
    "plt.show()"
   ]
  },
  {
   "cell_type": "markdown",
   "metadata": {},
   "source": [
    "# Pytorch Neural Net"
   ]
  },
  {
   "cell_type": "code",
   "execution_count": 8,
   "metadata": {},
   "outputs": [],
   "source": [
    "import torch\n",
    "import torch.nn as nn\n",
    "import torch.optim as optim\n",
    "from torch.autograd import Variable\n",
    "from torch.utils.data import DataLoader\n",
    "from torch.utils.data import sampler\n",
    "\n",
    "import torchvision.datasets as dset\n",
    "import torchvision.transforms as T\n",
    "\n",
    "import timeit"
   ]
  },
  {
   "cell_type": "code",
   "execution_count": 9,
   "metadata": {},
   "outputs": [
    {
     "data": {
      "text/plain": [
       "True"
      ]
     },
     "execution_count": 9,
     "metadata": {},
     "output_type": "execute_result"
    }
   ],
   "source": [
    "torch.cuda.is_available()"
   ]
  },
  {
   "cell_type": "code",
   "execution_count": 10,
   "metadata": {},
   "outputs": [],
   "source": [
    "class Flatten(nn.Module):\n",
    "    def forward(self, x):\n",
    "        N, C, H, W = x.size() # read in N, C, H, W\n",
    "        return x.reshape(N, -1)  # \"flatten\" the C * H * W values into a single vector per image"
   ]
  },
  {
   "cell_type": "code",
   "execution_count": 11,
   "metadata": {},
   "outputs": [],
   "source": [
    "if torch.cuda.is_available():\n",
    "    DTYPE = torch.cuda.FloatTensor #GPU type\n",
    "else:\n",
    "    DTYPE = torch.FloatTensor #CPU type"
   ]
  },
  {
   "cell_type": "code",
   "execution_count": 12,
   "metadata": {},
   "outputs": [],
   "source": [
    "model_base = nn.Sequential(\n",
    "    nn.Conv2d(3, 64, kernel_size=7, stride=1),\n",
    "    nn.ReLU(inplace=True),\n",
    "    nn.BatchNorm2d(64),\n",
    "    nn.MaxPool2d(2, stride=2),\n",
    "    Flatten(),\n",
    "    nn.Linear(53824,1024),\n",
    "    nn.ReLU(inplace=True),\n",
    "    nn.Linear(1024, 10),\n",
    ")\n",
    "\n",
    "model = model_base.type(DTYPE)\n",
    "\n",
    "loss_fn = nn.CrossEntropyLoss().type(DTYPE)\n",
    "optimizer = optim.RMSprop(model.parameters(), lr = 1e-3)"
   ]
  },
  {
   "cell_type": "markdown",
   "metadata": {},
   "source": [
    "## Train model"
   ]
  },
  {
   "cell_type": "code",
   "execution_count": 15,
   "metadata": {},
   "outputs": [
    {
     "name": "stdout",
     "output_type": "stream",
     "text": [
      "Starting epoch 1 / 3\n",
      "t = 100, loss = 0.7995\n",
      "t = 200, loss = 0.2210\n",
      "t = 300, loss = 0.1363\n",
      "Starting epoch 2 / 3\n",
      "t = 100, loss = 0.0879\n",
      "t = 200, loss = 0.0145\n",
      "t = 300, loss = 1.0213\n",
      "Starting epoch 3 / 3\n",
      "t = 100, loss = 0.0035\n",
      "t = 200, loss = 0.0017\n",
      "t = 300, loss = 0.1058\n"
     ]
    }
   ],
   "source": [
    "torch.cuda.random.manual_seed(2468)\n",
    "model.apply(reset)\n",
    "train(model, loss_fn, optimizer, num_epochs=3)"
   ]
  },
  {
   "cell_type": "code",
   "execution_count": 18,
   "metadata": {},
   "outputs": [
    {
     "name": "stdout",
     "output_type": "stream",
     "text": [
      "tensor(6544)\n",
      "Got 6544 / 6700 correct (97.67)\n"
     ]
    },
    {
     "data": {
      "text/plain": [
       "97.67164179104478"
      ]
     },
     "execution_count": 18,
     "metadata": {},
     "output_type": "execute_result"
    }
   ],
   "source": [
    "check_accuracy(model, Xval, Yval, Xval.shape[0])"
   ]
  },
  {
   "cell_type": "code",
   "execution_count": 17,
   "metadata": {},
   "outputs": [],
   "source": [
    "# run on the test set for final accuracy\n",
    "\n",
    "#check_accuracy(model, Xtest)"
   ]
  },
  {
   "cell_type": "code",
   "execution_count": null,
   "metadata": {},
   "outputs": [],
   "source": []
  }
 ],
 "metadata": {
  "accelerator": "GPU",
  "colab": {
   "collapsed_sections": [],
   "name": "project.ipynb",
   "provenance": []
  },
  "kernelspec": {
   "display_name": "Python 3",
   "language": "python",
   "name": "python3"
  },
  "language_info": {
   "codemirror_mode": {
    "name": "ipython",
    "version": 3
   },
   "file_extension": ".py",
   "mimetype": "text/x-python",
   "name": "python",
   "nbconvert_exporter": "python",
   "pygments_lexer": "ipython3",
   "version": "3.7.7"
  }
 },
 "nbformat": 4,
 "nbformat_minor": 1
}
