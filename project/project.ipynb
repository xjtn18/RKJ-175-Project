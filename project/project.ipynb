{
 "cells": [
  {
   "cell_type": "markdown",
   "metadata": {},
   "source": [
    "# Distracted Driving Detection Model Showcase"
   ]
  },
  {
   "cell_type": "code",
   "execution_count": 1,
   "metadata": {},
   "outputs": [],
   "source": [
    "# this is where we showcase our final model on a small sample of the data (once we are done creating our best model)"
   ]
  },
  {
   "cell_type": "code",
   "execution_count": null,
   "metadata": {},
   "outputs": [],
   "source": [
    "\"\"\"\n",
    "What to do:\n",
    "1) load the best model from a pickle file\n",
    "2) create an image array from a small (less than 5 MB) folder of select test images\n",
    "3) run the model and showcase the performance\n",
    "4) make sure the entire notebook takes less than a minute to run\n",
    "\"\"\""
   ]
  },
  {
   "cell_type": "code",
   "execution_count": 1,
   "metadata": {},
   "outputs": [],
   "source": [
    "import pickle\n",
    "import numpy as np\n",
    "import os\n",
    "import cv2\n",
    "import torch\n",
    "\n",
    "import sys\n",
    "sys.path.append('./src/')\n",
    "\n",
    "%load_ext autoreload\n",
    "%autoreload 1\n",
    "%aimport main\n",
    "%aimport Helper"
   ]
  },
  {
   "cell_type": "markdown",
   "metadata": {},
   "source": [
    "# Load data + models"
   ]
  },
  {
   "cell_type": "code",
   "execution_count": null,
   "metadata": {},
   "outputs": [],
   "source": [
    "#note: models and sample_data aren't created yet\n",
    "\n",
    "with open('torch_model.pkl') as fid:\n",
    "    torch_model = pickle.load(fid)\n",
    "with open('kristens_model.pkl') as fid:\n",
    "    kristens_model = pickle.load(fid)\n",
    "with open('illorums_model.pkl') as fid:\n",
    "    illorums_model = pickle.load(fid)\n",
    "\n",
    "Xtest, Ytest = [], []\n",
    "for filename in os.listdir('./sample_data/'):\n",
    "    img = cv2.imread(path, cv2.IMREAD_COLOR) # read image as numpy array\n",
    "    img = cv2.resize(img, (64,64)) # resize image so its smaller\n",
    "    Xtest.append(img)\n",
    "\n",
    "Xtest = np.asarray(Xtest)\n",
    "Ytest = np.asarray(Ytest)"
   ]
  },
  {
   "cell_type": "markdown",
   "metadata": {},
   "source": [
    "# Model 1: PyTorch"
   ]
  },
  {
   "cell_type": "code",
   "execution_count": 2,
   "metadata": {},
   "outputs": [],
   "source": [
    "if torch.cuda.is_available():\n",
    "    DTYPE = torch.cuda.FloatTensor #GPU type\n",
    "else:\n",
    "    DTYPE = torch.FloatTensor #CPU type"
   ]
  },
  {
   "cell_type": "code",
   "execution_count": null,
   "metadata": {},
   "outputs": [],
   "source": [
    "%autoreload\n",
    "\n",
    "Xtest_torch = np.transpose(Xtest, (0, 3, 1, 2)) # format dimensions for the model\n",
    "Xtest_torch = torch.from_numpy(Xtest_torch) # convert to PyTorch tensor\n",
    "Helper.evaluate(torch_model, Xtest_torch, Ytest_torch, Xtest_torch.shape[0], dtype = DTYPE)"
   ]
  },
  {
   "cell_type": "markdown",
   "metadata": {},
   "source": [
    "# Model 2:"
   ]
  },
  {
   "cell_type": "code",
   "execution_count": null,
   "metadata": {},
   "outputs": [],
   "source": [
    "%autoreload\n",
    "\n",
    "# convert to appropriate tensor if needed\n",
    "\n",
    "Helper.evaluate(torch_model, )"
   ]
  },
  {
   "cell_type": "markdown",
   "metadata": {},
   "source": [
    "# Model 3:"
   ]
  },
  {
   "cell_type": "code",
   "execution_count": null,
   "metadata": {},
   "outputs": [],
   "source": [
    "%autoreload\n",
    "\n",
    "# convert to appropriate tensor if needed\n",
    "\n",
    "Helper.evaluate(torch_model, )"
   ]
  },
  {
   "cell_type": "markdown",
   "metadata": {},
   "source": [
    "# Final Analysis"
   ]
  },
  {
   "cell_type": "markdown",
   "metadata": {},
   "source": []
  }
 ],
 "metadata": {
  "kernelspec": {
   "display_name": "Python 3",
   "language": "python",
   "name": "python3"
  },
  "language_info": {
   "codemirror_mode": {
    "name": "ipython",
    "version": 3
   },
   "file_extension": ".py",
   "mimetype": "text/x-python",
   "name": "python",
   "nbconvert_exporter": "python",
   "pygments_lexer": "ipython3",
   "version": "3.7.7"
  }
 },
 "nbformat": 4,
 "nbformat_minor": 4
}
