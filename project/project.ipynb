{
 "cells": [
  {
   "cell_type": "markdown",
   "metadata": {
    "colab_type": "text",
    "id": "9vdvF5Y8_xh5"
   },
   "source": [
    "# Distracted Driving Detection Project"
   ]
  },
  {
   "cell_type": "code",
   "execution_count": 1,
   "metadata": {
    "colab": {},
    "colab_type": "code",
    "id": "VIbFyT9X_xh6"
   },
   "outputs": [
    {
     "name": "stderr",
     "output_type": "stream",
     "text": [
      "Using TensorFlow backend.\n"
     ]
    }
   ],
   "source": [
    "import os\n",
    "from glob import glob\n",
    "import random\n",
    "import time\n",
    "import tensorflow\n",
    "import datetime\n",
    "os.environ['KERAS_BACKEND'] = 'tensorflow'\n",
    "os.environ['TF_CPP_MIN_LOG_LEVEL'] = '3' # 3 = INFO, WARNING, and ERROR messages are not printed\n",
    "\n",
    "from tqdm import tqdm\n",
    "\n",
    "import numpy as np\n",
    "import pandas as pd\n",
    "from IPython.display import FileLink\n",
    "import matplotlib.pyplot as plt\n",
    "import warnings\n",
    "warnings.filterwarnings('ignore')\n",
    "import seaborn as sns \n",
    "%matplotlib inline\n",
    "from IPython.display import display, Image\n",
    "import matplotlib.image as mpimg\n",
    "import cv2\n",
    "\n",
    "from sklearn.model_selection import train_test_split\n",
    "from sklearn.datasets import load_files       \n",
    "from keras.utils import np_utils\n",
    "from sklearn.utils import shuffle\n",
    "from sklearn.metrics import log_loss\n",
    "\n",
    "from keras.models import Sequential, Model\n",
    "from keras.layers import Conv2D, MaxPooling2D, Flatten, Dense, Dropout, BatchNormalization, GlobalAveragePooling2D\n",
    "from keras.preprocessing.image import ImageDataGenerator\n",
    "from keras.preprocessing import image\n",
    "from keras.callbacks import ModelCheckpoint, EarlyStopping\n",
    "from keras.applications.vgg16 import VGG16\n",
    "\n",
    "\n",
    "#import main.py\n",
    "import sys\n",
    "sys.path.append('./src/')\n",
    "from main import *"
   ]
  },
  {
   "cell_type": "code",
   "execution_count": 37,
   "metadata": {
    "colab": {
     "base_uri": "https://localhost:8080/",
     "height": 34
    },
    "colab_type": "code",
    "executionInfo": {
     "elapsed": 718,
     "status": "ok",
     "timestamp": 1591558498622,
     "user": {
      "displayName": "Jacob Thomas Nardone",
      "photoUrl": "https://lh3.googleusercontent.com/a-/AOh14GiRMnxihFRBDa3LGVsBsVd_m5umc7snzLjyiIdq=s64",
      "userId": "06326030387272995666"
     },
     "user_tz": 420
    },
    "id": "iEVyzDF9_xh-",
    "outputId": "b67a4dae-2506-4366-d991-3e49dbecf199"
   },
   "outputs": [
    {
     "name": "stdout",
     "output_type": "stream",
     "text": [
      "22424\n"
     ]
    }
   ],
   "source": [
    "num_train = 0\n",
    "for x in os.listdir(\"./data/imgs/train/\"):\n",
    "    num_train += len(os.listdir('./data/imgs/train/' + x))\n",
    "print(num_train)"
   ]
  },
  {
   "cell_type": "code",
   "execution_count": 42,
   "metadata": {
    "colab": {},
    "colab_type": "code",
    "id": "xwrBAJSA_xiB"
   },
   "outputs": [],
   "source": [
    "#random numbers rn\n",
    "NUM_TRAIN = 8000\n",
    "NUM_VAL = 1000\n",
    "NUM_TEST = 10000\n"
   ]
  },
  {
   "cell_type": "code",
   "execution_count": 61,
   "metadata": {
    "colab": {
     "base_uri": "https://localhost:8080/",
     "height": 204
    },
    "colab_type": "code",
    "executionInfo": {
     "elapsed": 300,
     "status": "ok",
     "timestamp": 1591514384546,
     "user": {
      "displayName": "Jacob Thomas Nardone",
      "photoUrl": "https://lh3.googleusercontent.com/a-/AOh14GiRMnxihFRBDa3LGVsBsVd_m5umc7snzLjyiIdq=s64",
      "userId": "06326030387272995666"
     },
     "user_tz": 420
    },
    "id": "xiRCKebPZSBZ",
    "outputId": "acb3b3da-8e29-45aa-ca24-4d653b014cad"
   },
   "outputs": [
    {
     "data": {
      "text/html": [
       "<div>\n",
       "<style scoped>\n",
       "    .dataframe tbody tr th:only-of-type {\n",
       "        vertical-align: middle;\n",
       "    }\n",
       "\n",
       "    .dataframe tbody tr th {\n",
       "        vertical-align: top;\n",
       "    }\n",
       "\n",
       "    .dataframe thead th {\n",
       "        text-align: right;\n",
       "    }\n",
       "</style>\n",
       "<table border=\"1\" class=\"dataframe\">\n",
       "  <thead>\n",
       "    <tr style=\"text-align: right;\">\n",
       "      <th></th>\n",
       "      <th>subject</th>\n",
       "      <th>classname</th>\n",
       "      <th>img</th>\n",
       "    </tr>\n",
       "  </thead>\n",
       "  <tbody>\n",
       "    <tr>\n",
       "      <th>0</th>\n",
       "      <td>p002</td>\n",
       "      <td>c0</td>\n",
       "      <td>img_44733.jpg</td>\n",
       "    </tr>\n",
       "    <tr>\n",
       "      <th>1</th>\n",
       "      <td>p002</td>\n",
       "      <td>c0</td>\n",
       "      <td>img_72999.jpg</td>\n",
       "    </tr>\n",
       "    <tr>\n",
       "      <th>2</th>\n",
       "      <td>p002</td>\n",
       "      <td>c0</td>\n",
       "      <td>img_25094.jpg</td>\n",
       "    </tr>\n",
       "    <tr>\n",
       "      <th>3</th>\n",
       "      <td>p002</td>\n",
       "      <td>c0</td>\n",
       "      <td>img_69092.jpg</td>\n",
       "    </tr>\n",
       "    <tr>\n",
       "      <th>4</th>\n",
       "      <td>p002</td>\n",
       "      <td>c0</td>\n",
       "      <td>img_92629.jpg</td>\n",
       "    </tr>\n",
       "  </tbody>\n",
       "</table>\n",
       "</div>"
      ],
      "text/plain": [
       "  subject classname            img\n",
       "0    p002        c0  img_44733.jpg\n",
       "1    p002        c0  img_72999.jpg\n",
       "2    p002        c0  img_25094.jpg\n",
       "3    p002        c0  img_69092.jpg\n",
       "4    p002        c0  img_92629.jpg"
      ]
     },
     "execution_count": 61,
     "metadata": {
      "tags": []
     },
     "output_type": "execute_result"
    }
   ],
   "source": [
    "dataset = pd.read_csv('data/driver_imgs_list.csv')\n",
    "dataset.head(5)"
   ]
  },
  {
   "cell_type": "code",
   "execution_count": 35,
   "metadata": {
    "colab": {},
    "colab_type": "code",
    "id": "MF8SJbFDszBv"
   },
   "outputs": [],
   "source": [
    "NUM_CLASSES = 10\n",
    "IMG_W = 64\n",
    "IMG_H = 64\n",
    "\n",
    "RS = 22"
   ]
  },
  {
   "cell_type": "code",
   "execution_count": 38,
   "metadata": {
    "colab": {
     "base_uri": "https://localhost:8080/",
     "height": 455
    },
    "colab_type": "code",
    "executionInfo": {
     "elapsed": 281995,
     "status": "error",
     "timestamp": 1591560523245,
     "user": {
      "displayName": "Jacob Thomas Nardone",
      "photoUrl": "https://lh3.googleusercontent.com/a-/AOh14GiRMnxihFRBDa3LGVsBsVd_m5umc7snzLjyiIdq=s64",
      "userId": "06326030387272995666"
     },
     "user_tz": 420
    },
    "id": "EcWWaS1NuGJG",
    "outputId": "84f1bc5b-9526-4e5d-8e62-d2a9d03f57a4",
    "scrolled": true
   },
   "outputs": [],
   "source": [
    "def get_cv2_image(path, img_w, img_h, color_type=3):\n",
    "    # Loading as Grayscale image\n",
    "    if color_type == 1:\n",
    "        img = cv2.imread(path, cv2.IMREAD_GRAYSCALE)\n",
    "    elif color_type == 3:\n",
    "        img = cv2.imread(path, cv2.IMREAD_COLOR)\n",
    "    # Reduce size\n",
    "    img = cv2.resize(img, (img_w, img_h)) \n",
    "    return img\n",
    "\n",
    "\n",
    "def load_train(img_w, img_h, color_type=3):\n",
    "    Xtrain = []\n",
    "    Ytrain = []\n",
    "    # Loop over the training folder \n",
    "    for x in range(10):\n",
    "        files = glob(os.path.join('data', 'imgs', 'train', 'c' + str(x), '*.jpg'))\n",
    "        for file in files:\n",
    "            img = get_cv2_image(file, img_w, img_h)\n",
    "            Xtrain.append(img)\n",
    "            Ytrain.append(x) # class label\n",
    "    return shuffle(np.asarray(Xtrain), random_state = RS), shuffle(np.asarray(Ytrain), random_state = RS)\n",
    "\n",
    "\n",
    "def load_test(img_w, img_h, color_type=3):\n",
    "    Xtest = []\n",
    "    # Loop over the training folder \n",
    "    files = glob(os.path.join('data', 'imgs', 'test', '*.jpg'))\n",
    "    for file in files:\n",
    "        img = get_cv2_image(file, img_w, img_h)\n",
    "        Xtest.append(img)\n",
    "    return shuffle(np.asarray(Xtest), random_state = RS)\n",
    "\n"
   ]
  },
  {
   "cell_type": "code",
   "execution_count": 41,
   "metadata": {},
   "outputs": [],
   "source": [
    "Xtrain, Ytrain = load_train(IMG_W, IMG_H)\n",
    "Xtest = load_test(IMG_W, IMG_H)\n",
    "\n",
    "with open('./train_array.pkl', 'wb') as fid:\n",
    "    pickle.dump((Xtrain, Ytrain), fid) #stores a tuple\n",
    "with open('./test_array.pkl', 'wb') as fid:\n",
    "    pickle.dump(Xtest, fid)"
   ]
  },
  {
   "cell_type": "code",
   "execution_count": 44,
   "metadata": {},
   "outputs": [
    {
     "name": "stdout",
     "output_type": "stream",
     "text": [
      "Xtrain shape: (22424, 64, 64, 3)\n",
      "Ytrain shape: (22424,)\n",
      "Xtest shape: (79726, 64, 64, 3)\n"
     ]
    }
   ],
   "source": [
    "with open('./train_arrays.pkl', 'rb') as fid:\n",
    "    Xtrain,Ytrain = pickle.load(fid)\n",
    "with open('./test_array.pkl', 'rb') as fid:\n",
    "    Xtest = pickle.load(fid)\n",
    "print(\"Xtrain shape:\", Xtrain.shape)\n",
    "print(\"Ytrain shape:\", Ytrain.shape)\n",
    "print(\"Xtest shape:\", Xtest.shape)"
   ]
  },
  {
   "cell_type": "code",
   "execution_count": null,
   "metadata": {},
   "outputs": [],
   "source": []
  }
 ],
 "metadata": {
  "accelerator": "GPU",
  "colab": {
   "collapsed_sections": [],
   "name": "project.ipynb",
   "provenance": []
  },
  "kernelspec": {
   "display_name": "Python 3",
   "language": "python",
   "name": "python3"
  },
  "language_info": {
   "codemirror_mode": {
    "name": "ipython",
    "version": 3
   },
   "file_extension": ".py",
   "mimetype": "text/x-python",
   "name": "python",
   "nbconvert_exporter": "python",
   "pygments_lexer": "ipython3",
   "version": "3.7.4"
  }
 },
 "nbformat": 4,
 "nbformat_minor": 1
}
